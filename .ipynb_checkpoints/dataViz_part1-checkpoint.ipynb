{
 "cells": [
  {
   "cell_type": "markdown",
   "metadata": {
    "id": "T0gHsZaxUK9N"
   },
   "source": [
    "# Data Visualisation with Python\n",
    "\n",
    "The following notebook serves as an introduction to data visualization with Python training course. \n",
    "\n",
    "## Why Data Visualization?\n",
    "Data visualization (DataViz) is an essential tool for exploring and find insight in the data. Before jumping to complex machine learning or multivariate models, one should always take a first look at the data through simple visualization techniques. Indeed, visualization provides a unique perspective on the dataset that might in some cases allow you to detect potential challenge or specifities in your data that should be taken into account for future and in depth analysis.\n",
    "\n",
    "## Objectives of the course\n",
    "The goal of this session is to discover how to make 1D, 2D, 3D and eventually multidimensional data visualization with Python. \n",
    "\n",
    "We will explore four different librairies:\n",
    "\n",
    "* Matplotlib (very similar to Matlab's syntax): classic Python library for data visualization.\n",
    "* Pandas: its main purpose is to handle data frames. It also provides basic visualization modules.\n",
    "* Seaborn: it provides a high-level interface to draw statistical graphics.\n",
    "* Plotly: interactive graphing library\n"
   ]
  },
  {
   "cell_type": "markdown",
   "metadata": {
    "id": "YosssvHjVS_j"
   },
   "source": [
    "## Part 1 - Comparing Matplotlib, Pandas and Seaborn\n",
    "\n",
    "To illustrate the differences between Matplotlib, Seaborn and Pandas, let us import a dataset about the weather in seattle from the library vega_datasets() and briefly describe it. \n",
    "\n"
   ]
  },
  {
   "cell_type": "code",
   "execution_count": null,
   "metadata": {
    "colab": {
     "base_uri": "https://localhost:8080/",
     "height": 374
    },
    "id": "ts8gVPx_gGHP",
    "outputId": "a87b7cba-3c48-4c40-9734-5f7684cb40fe"
   },
   "outputs": [],
   "source": [
    "from vega_datasets import data\n",
    "import pandas as pd\n",
    "\n",
    "seattle_weather = data.seattle_weather()\n",
    "# Check the first three rows of the dataset \n",
    "print(seattle_weather.head(3)) \n",
    "\n",
    "# A few statistics on the data (= summary in R)\n",
    "seattle_weather.describe()"
   ]
  },
  {
   "cell_type": "code",
   "execution_count": null,
   "metadata": {
    "id": "Po_2dmbSuORq"
   },
   "outputs": [],
   "source": [
    "# Accessing one variable only by the column name\n",
    "seattle_weather['precipitation'].describe()\n",
    "\n",
    "# Extracting a sub-dataset based on the value of a column\n",
    "df_sun = seattle_weather.loc[seattle_weather['weather'] == 'sun']\n",
    "\n",
    "# Extract the month of the year from the date to create a new variable\n",
    "seattle_weather['month'] = pd.DatetimeIndex(seattle_weather['date']).month_name()"
   ]
  },
  {
   "cell_type": "code",
   "execution_count": null,
   "metadata": {
    "colab": {
     "base_uri": "https://localhost:8080/"
    },
    "id": "5Kzkph6zBbIt",
    "outputId": "515f081e-f3a0-4053-ac23-124dad3c052f"
   },
   "outputs": [],
   "source": [
    "# Check the new column\n",
    "print(seattle_weather.head(3)) "
   ]
  },
  {
   "cell_type": "markdown",
   "metadata": {
    "id": "lvPaGWitgJjN"
   },
   "source": [
    "### Matplotlib\n",
    "\n",
    "Matplotlib is a library for producing publication-quality figures. It was designed from the beginning to serve two purposes: allow for interactive, cross-platform control of figures and plots; make it easy to produce static raster or vector graphics files without the need for any GUIs.\n",
    "\n",
    "#### Online Documentation\n",
    "\n",
    "The [matplotlib.org](https://matplotlib.org/) project website is the primary online resource for the library's documentation. It contains the example galleries, FAQs, API documentation, and tutorials.\n",
    "You can take a look at the [Gallery](https://matplotlib.org/stable/gallery/index.html) to see the variety of ways one can make figures.\n",
    "\n",
    "This tutorial is strongly inspired by this very good [tutorial](https://github.com/matplotlib/AnatomyOfMatplotlib). We will only cover the fisrt part here.\n"
   ]
  },
  {
   "cell_type": "markdown",
   "metadata": {
    "id": "C_vQZmwe4e03"
   },
   "source": [
    "#### Basics of Matplotlib\n",
    "\n",
    "Let's start by taking a closer look at the anatomy of a Matplolib plot by answering to the following questions. \n",
    "\n",
    "1. **What exactly is a Figure?** \n",
    "\n",
    " The top level container for all the plot elements. It is the overall window or page that everything is drawn on. The Figure object is instantiated by calling the `figure()` function from the pyplot module. You can create multiple independent Figures. A Figure can have several other things in it, such as a title, which is a centered title to the figure. You’ll also find that you can add a legend and color bar, for example, to your Figure.\n",
    "\n",
    "2. **What are the Axes?** \n",
    "\n",
    " To the figure you add Axes. Axes object is the region of the image with the data space. A given figure can contain many Axes, but a given Axes object can only be in one Figure. The Axes contains two (or three in the case of 3D visualisation) Axis objects (x and y). Axes can have ticks, labels, etc. associated with it.\n",
    "\n",
    "\n",
    "**Note** that in the following code, we import the `pyplot` module of the `matplotlib` library under the alias `plt`.\n",
    "Pyplot provides the state-machine interface to the underlying plotting library in matplotlib. This means that figures and axes are implicitly and automatically created to achieve the desired plot. For example, calling `plot` from `pyplot` will automatically create the necessary figure and axes to achieve the desired plot."
   ]
  },
  {
   "cell_type": "code",
   "execution_count": null,
   "metadata": {
    "id": "Z2BeiRvsk5Tn"
   },
   "outputs": [],
   "source": [
    "# Import the necessary packages and modules\n",
    "import matplotlib.pyplot as plt"
   ]
  },
  {
   "cell_type": "code",
   "execution_count": null,
   "metadata": {
    "colab": {
     "base_uri": "https://localhost:8080/"
    },
    "id": "agef4mKXckhh",
    "outputId": "1e856dd8-9a90-4571-a683-a86e76b5b8ea"
   },
   "outputs": [],
   "source": [
    "# Let's take a look at the documentation \n",
    "help('matplotlib.pyplot.hist')"
   ]
  },
  {
   "cell_type": "code",
   "execution_count": null,
   "metadata": {
    "colab": {
     "base_uri": "https://localhost:8080/",
     "height": 308
    },
    "id": "GTvXZ1ZRk2x4",
    "outputId": "44ddecaa-fe3b-47ad-d9cc-7a6d002c0013"
   },
   "outputs": [],
   "source": [
    "# Long version (declare a new figure and add desired axes)\n",
    "\n",
    "# Create the Figure object\n",
    "fig = plt.figure()\n",
    "\n",
    "# Add an Axe to this figure\n",
    "# [0, 0, 1, 1] is the dimensions [left, bottom, width, height] of the new axes.\n",
    "# Values are in 0-1 relative figure coordinates.\n",
    "ax = fig.add_axes([0.5,0.5,0.8,0.8])\n",
    "\n",
    "# Plot the distribution of the wind variable in the axe\n",
    "g1 = ax.hist(x=seattle_weather['wind'])\n",
    "\n",
    "# Add a title\n",
    "ax.set_title('Histogram with default parameters')\n",
    "\n",
    "# Add labels for the x-axis and the y-axis\n",
    "ax.set_xlabel('Wind')\n",
    "ax.set_ylabel('Count')\n",
    "\n",
    "# Show the plot\n",
    "plt.show()"
   ]
  },
  {
   "cell_type": "code",
   "execution_count": null,
   "metadata": {
    "colab": {
     "base_uri": "https://localhost:8080/",
     "height": 295
    },
    "id": "y2PabiJjThI4",
    "outputId": "1e571397-abf0-4fe1-aca9-24ae6812ef45"
   },
   "outputs": [],
   "source": [
    "# Short version (using the fact that figure and axes are automatically created)\n",
    "# Make use of the built-in defaults that take care of the creation of the \n",
    "# underlying components, such as the Figure and the Axes.\n",
    "\n",
    "# Plot the distribution of the wind using a histogram \n",
    "plt.hist(x=seattle_weather['wind'])\n",
    "\n",
    "# Add a title\n",
    "plt.title(\"Histogram with default parameters\")\n",
    "\n",
    "# Add labels for the x-axis and the y-axis\n",
    "plt.xlabel('Wind')\n",
    "plt.ylabel('Count')\n",
    "\n",
    "# Show the plot\n",
    "plt.show()"
   ]
  },
  {
   "cell_type": "code",
   "execution_count": null,
   "metadata": {
    "colab": {
     "base_uri": "https://localhost:8080/",
     "height": 306
    },
    "id": "2GSNnk-jxQCO",
    "outputId": "971c17a5-549e-488a-c1ee-d9ab3352ff85"
   },
   "outputs": [],
   "source": [
    "# Another example\n",
    "seattle_weather_sorted = seattle_weather.sort_values('date', ascending=True)\n",
    "plt.plot(seattle_weather_sorted['date'], seattle_weather_sorted['precipitation'])\n",
    "\n",
    "# Change the orientation of the xticks\n",
    "plt.xticks(rotation=45)\n",
    "\n",
    "# Add labels for the x-axis and the y-axis\n",
    "plt.xlabel('Precipitation')\n",
    "plt.ylabel('Date')\n",
    "\n",
    "plt.show()"
   ]
  },
  {
   "cell_type": "markdown",
   "metadata": {
    "id": "EYOM8AE3gyyY"
   },
   "source": [
    "3. **What is a subplot ?**\n",
    "\n",
    "The matplotlib.pyplot.subplots method provides a way to plot multiple plots on a single figure. Given the number of rows and columns, it returns a tuple `(fig, ax`), giving a single figure `fig` with an array of axe `ax`.\n",
    "\n",
    "Bellow, we show three different ways to create a subplot and to add plots to each created ax. \n",
    "\n",
    "More details on the different arguments of the `subplots` method [here](https://www.educative.io/edpresso/what-is-a-subplots-in-matplotlib)."
   ]
  },
  {
   "cell_type": "code",
   "execution_count": null,
   "metadata": {
    "colab": {
     "base_uri": "https://localhost:8080/",
     "height": 370
    },
    "id": "PkKDKgW8f_tW",
    "outputId": "f7c41a46-5fb9-4882-84ce-e3062b5eb128"
   },
   "outputs": [],
   "source": [
    "# Option 1 : Displaying multiple graphs with subplots\n",
    "fig, (ax1, ax2, ax3) = plt.subplots(1, 3, figsize=(10,5))\n",
    "fig.suptitle('Option 1', fontsize='large')\n",
    "\n",
    "# Histogram of the wind variable with 8 bins. We also change the color of the\n",
    "# bins and the color of the edges. \n",
    "ax1.hist(seattle_weather['wind'], bins=8, color='#0504aa', edgecolor=\"black\")\n",
    "\n",
    "# change the label of the x-axis and add a grid\n",
    "ax1.set_xlabel('wind')\n",
    "ax1.grid()\n",
    "\n",
    "# different type of histograms (step)\n",
    "ax2.hist(seattle_weather['wind'], bins=12, histtype = 'step', \n",
    "         edgecolor=\"black\")\n",
    "\n",
    "# Scatter plot of the min temperature and the wind\n",
    "ax3.scatter(seattle_weather['temp_min'], seattle_weather['wind'])\n",
    "\n",
    "# Show the plot\n",
    "plt.show()"
   ]
  },
  {
   "cell_type": "code",
   "execution_count": null,
   "metadata": {
    "colab": {
     "base_uri": "https://localhost:8080/",
     "height": 370
    },
    "id": "6CahJOBthG13",
    "outputId": "2be21087-0dc7-401d-ae91-d3433f1b5462"
   },
   "outputs": [],
   "source": [
    "# Option 2 : Displaying multiple graphs with subplots\n",
    "fig, axs = plt.subplots(nrows=1, ncols=3, figsize=(10,5))\n",
    "fig.suptitle('Option 2', fontsize='large')\n",
    "\n",
    "ax = axs[0]\n",
    "ax.hist(seattle_weather['wind'], bins=5, orientation = 'horizontal',\n",
    "        edgecolor=\"black\")\n",
    "ax.grid()\n",
    "\n",
    "ax=axs[1]\n",
    "ax.hist(seattle_weather['wind'], bins=12,\n",
    "        edgecolor=\"black\")\n",
    "\n",
    "ax=axs[2]\n",
    "ax.scatter(seattle_weather['temp_min'], seattle_weather['wind'])\n",
    "ax.set_xlabel('température min')\n",
    "ax.set_ylabel('wind')\n",
    "plt.show()"
   ]
  },
  {
   "cell_type": "code",
   "execution_count": null,
   "metadata": {
    "colab": {
     "base_uri": "https://localhost:8080/",
     "height": 352
    },
    "id": "z1nunia9prTx",
    "outputId": "be3224b2-7b5a-4c77-908f-d620336c7e8b"
   },
   "outputs": [],
   "source": [
    "# Option 3: Displaying multiple graphs with subplots\n",
    "\n",
    "# Create the figure\n",
    "fig = plt.figure(figsize=(20,5))\n",
    "\n",
    "# Add subplots to the figure\n",
    "# 131 -> (number of rows, number of columns, axe number)\n",
    "ax1 = fig.add_subplot(131)\n",
    "ax2 = fig.add_subplot(132)\n",
    "ax3 = fig.add_subplot(133)\n",
    "\n",
    "ax1.hist(seattle_weather['wind'])\n",
    "# change the label of the x-axis and add a grid\n",
    "ax1.set_xlabel('wind')\n",
    "ax1.grid()\n",
    "\n",
    "# a bar chart for categorical variables\n",
    "count_weather = seattle_weather['weather'].value_counts()\n",
    "name = count_weather.index.tolist()\n",
    "print(name)\n",
    "ax2.bar(name, count_weather)\n",
    "\n",
    "# let's color the point of the scatter according to the weather\n",
    "colors = {'sun':'yellow', 'fog':'grey', 'rain':'blue', 'drizzle':'pink', \n",
    "          'snow':'red'}\n",
    "ax3.scatter(seattle_weather['temp_min'], seattle_weather['wind'], marker='o',\n",
    "            c=seattle_weather['weather'].map(colors))\n",
    "ax3.set_xlabel('min temperature')\n",
    "ax3.set_ylabel('wind')\n",
    "\n",
    "plt.show()"
   ]
  },
  {
   "cell_type": "code",
   "execution_count": null,
   "metadata": {
    "id": "O5_bSMZOqtt7"
   },
   "outputs": [],
   "source": [
    "# EXERCISE: Make a 2x2 grid plot containing:  \n",
    "# 1. a pie plot of the weather, \n",
    "# 2. a boxplot for the maximum temperature for different weather\n",
    "# 3. a scatter plot of precipitation and wind (customized ...) \n",
    "# 4. color each point of the scatter plot (3.) based on the month of the year\n",
    "\n",
    "\n",
    "# For the second plot we need to prepare the data as follows\n",
    "df_sun = seattle_weather.loc[seattle_weather['weather'] == 'sun']\n",
    "df_fog = seattle_weather.loc[seattle_weather['weather'] == 'fog']\n",
    "df_snow = seattle_weather.loc[seattle_weather['weather'] == 'snow']\n",
    "data_box = [df_sun['temp_max'], df_fog['temp_max'], df_snow['temp_max']]"
   ]
  },
  {
   "cell_type": "markdown",
   "metadata": {
    "id": "al1fPbUxTv-e"
   },
   "source": [
    "### Seaborn \n",
    "\n",
    "Seaborn is a complementary library for Matplolib, which provides a high-level interface to draw statistical graphics.\n",
    "\n",
    "First, Seaborn works with different parameters, which undoubtedly speaks to those users that don’t use the default looks of the Matplotlib plots."
   ]
  },
  {
   "cell_type": "markdown",
   "metadata": {
    "id": "nTAFJ4IP8jb6"
   },
   "source": [
    "***Rmq : seaborn intègre des stats de type intervalle de confiance dans la barplots\n",
    "https://seaborn.pydata.org/tutorial/categorical.html\n",
    "\n",
    "Changer le thème : https://seaborn.pydata.org/generated/seaborn.set.html?highlight=set#seaborn.set"
   ]
  },
  {
   "cell_type": "code",
   "execution_count": null,
   "metadata": {
    "colab": {
     "base_uri": "https://localhost:8080/",
     "height": 295
    },
    "id": "Nc80vBqMT2xv",
    "outputId": "829f8c36-12fb-43a1-8f58-70068b00ea06"
   },
   "outputs": [],
   "source": [
    "# Import the package\n",
    "import seaborn as sns\n",
    "\n",
    "# Using the seattle weather data with default parameter\n",
    "sns.histplot(seattle_weather['wind']).set_title('Wind distribution');\n",
    "\n",
    "## Show plot - not required with juptyer notebook\n",
    "plt.show()"
   ]
  },
  {
   "cell_type": "code",
   "execution_count": null,
   "metadata": {
    "id": "0C0sRtZQA0EB"
   },
   "outputs": [],
   "source": [
    "# Setting seaborn as default style even if use only matplotlib\n",
    "sns.set() "
   ]
  },
  {
   "cell_type": "markdown",
   "metadata": {
    "id": "0Vfc_uZAHZdq"
   },
   "source": [
    "The `displot()` module encapsulates the various available functions to visualize the distribution of a variable. The axes-level functions are `histplot()`, `kdeplot()`, `ecdfplot()`, and `rugplot()`. They are grouped together within the figure-level `displot()`, `jointplot()`, and `pairplot()` functions.\n",
    "\n",
    "The difference, when using `displot()` instead of directly `histplot()` is that the returned object is a `FacetGrid` and not a matplotlib axe. As a result, properties of the graph are accessible in a different way."
   ]
  },
  {
   "cell_type": "code",
   "execution_count": null,
   "metadata": {
    "colab": {
     "base_uri": "https://localhost:8080/",
     "height": 725
    },
    "id": "8ATcEnm3GpV_",
    "outputId": "39817dd8-6bde-4c2f-c652-6c5b2b71608c"
   },
   "outputs": [],
   "source": [
    "# Default displot is a histogram\n",
    "g = sns.displot(seattle_weather['wind']);\n",
    "g.fig.suptitle('Wind Distribution');\n",
    "\n",
    "# Same module but using kernel density estimation \n",
    "g2 = sns.displot(seattle_weather, x=\"wind\", kind=\"kde\")\n",
    "g2.fig.suptitle('Kernel Density Estimation');"
   ]
  },
  {
   "cell_type": "markdown",
   "metadata": {
    "id": "I1OqrcLzGfCJ"
   },
   "source": [
    "As stated in the introduction of Seaborn, it is complementary with Matplotlib. Indeed, Seaborn relies on the same anatomy than matplotlib (figure and axes) and as a result subplots for instance works in the same way. \n",
    "\n",
    "**Attention** : This is true when the object returned by the seaborn module is an *axe* (not the case for displot of jointplot)"
   ]
  },
  {
   "cell_type": "code",
   "execution_count": null,
   "metadata": {
    "id": "_a9IY6UbwqMU"
   },
   "outputs": [],
   "source": [
    "# Let's play with the theme of the plot \n",
    "# palette changes the color palette used, style the background of images\n",
    "sns.set(palette='pastel', style='whitegrid') "
   ]
  },
  {
   "cell_type": "code",
   "execution_count": null,
   "metadata": {
    "colab": {
     "base_uri": "https://localhost:8080/",
     "height": 375
    },
    "id": "sfKOk08AVNce",
    "outputId": "2b04320b-3bce-4494-b73a-a037ab1f2fa5"
   },
   "outputs": [],
   "source": [
    "# Example of subplots with Seaborn\n",
    "\n",
    "fig, axs = plt.subplots(nrows=1, ncols=3, figsize=(15,5))\n",
    "fig.suptitle('Subplot with seaborn', fontsize='large')\n",
    "\n",
    "sns.histplot(ax=axs[0], x=seattle_weather['wind'], bins=5, stat='probability')\n",
    "sns.scatterplot(ax=axs[1], x=seattle_weather['temp_min'], \n",
    "                y=seattle_weather['wind'])\n",
    "sns.boxplot(ax=axs[2], data=seattle_weather, y='temp_max', x='weather')\n",
    "plt.show()"
   ]
  },
  {
   "cell_type": "markdown",
   "metadata": {
    "id": "nWPDC58RsiBl"
   },
   "source": [
    "Representing joint distribution with seaborn : `jointplot()` and `pairplot()`\n",
    "\n",
    "Similar to `displot()`, setting a different value for the parameter `kind=` in `jointplot()` will change both the joint and marginal plots :"
   ]
  },
  {
   "cell_type": "code",
   "execution_count": null,
   "metadata": {
    "colab": {
     "base_uri": "https://localhost:8080/",
     "height": 437
    },
    "id": "BSKc7dacshKa",
    "outputId": "6c39d773-eba0-4209-cf02-70ab44724316"
   },
   "outputs": [],
   "source": [
    "# Example of jointplot\n",
    "sns.jointplot(data=seattle_weather, x=\"temp_max\", y=\"temp_min\");"
   ]
  },
  {
   "cell_type": "markdown",
   "metadata": {
    "id": "E0J6G9mh_HIO"
   },
   "source": [
    "Finally, `pairplot()` allows to create scatter plot for all the quantitative variables detected in the dataframe. Diagonal figures represent the distribution of the variables individually.\n",
    "It is similar to the `pair` function in R. "
   ]
  },
  {
   "cell_type": "code",
   "execution_count": null,
   "metadata": {
    "colab": {
     "base_uri": "https://localhost:8080/",
     "height": 725
    },
    "id": "ObONmN4BvOTy",
    "outputId": "54b28bbd-50c2-43ab-ea87-3d4a97bea629"
   },
   "outputs": [],
   "source": [
    "# Pairplot\n",
    "sns.pairplot(data=seattle_weather);"
   ]
  },
  {
   "cell_type": "code",
   "execution_count": null,
   "metadata": {
    "id": "IvFYp8Uzsawa"
   },
   "outputs": [],
   "source": [
    "# EXERCISE: Make a 1x3 grid plot containing:  \n",
    "# 1. a pie plot of the weather, \n",
    "# 2. a scatter plot of precipitation and wind (customized ...) \n",
    "# 3. color each point of the scatter plot (3.) based on the month of the year"
   ]
  },
  {
   "cell_type": "markdown",
   "metadata": {
    "id": "3pcSe84pTLyA"
   },
   "source": [
    "### Pandas \n",
    "\n",
    "Pandas is not a library dedicated to visualization. It is meant to handle Dataframe and Series, from which you can then easilly called visualization functions. Pandas' visualization function calls matplotlib.pyplot functions. "
   ]
  },
  {
   "cell_type": "markdown",
   "metadata": {
    "id": "YGG2VITDsGBm"
   },
   "source": [
    "The plot method on Series and DataFrame is just a simple wrapper around plt.plot. More details can be found in the [official documentation of pandas](https://pandas.pydata.org/pandas-docs/stable/user_guide/visualization.html)."
   ]
  },
  {
   "cell_type": "code",
   "execution_count": null,
   "metadata": {
    "id": "ev1RbdsKSbfP"
   },
   "outputs": [],
   "source": [
    "# Import the library\n",
    "import pandas as pd"
   ]
  },
  {
   "cell_type": "code",
   "execution_count": null,
   "metadata": {
    "colab": {
     "base_uri": "https://localhost:8080/",
     "height": 268
    },
    "id": "3itV5wIhcypF",
    "outputId": "7901a370-e137-4d49-b353-c6643345d247"
   },
   "outputs": [],
   "source": [
    "# Start with a simple histogram\n",
    "plt.figure()\n",
    "seattle_weather['wind'].plot.hist(bins=5)\n",
    "plt.show()"
   ]
  },
  {
   "cell_type": "code",
   "execution_count": null,
   "metadata": {
    "colab": {
     "base_uri": "https://localhost:8080/",
     "height": 603
    },
    "id": "fFJwe26htouk",
    "outputId": "1b480b6e-fdb1-4ab9-9395-daa4f05d82ea"
   },
   "outputs": [],
   "source": [
    "# A nice feature of these plots is the `by` argument\n",
    "seattle_weather['wind'].hist(by=seattle_weather['weather'], figsize=(12, 10));"
   ]
  },
  {
   "cell_type": "code",
   "execution_count": null,
   "metadata": {
    "colab": {
     "base_uri": "https://localhost:8080/",
     "height": 501
    },
    "id": "gWZH-Stnwt-M",
    "outputId": "6b04f992-393a-4a4e-e017-be0540b0b85c"
   },
   "outputs": [],
   "source": [
    "# Subplot with Panda visualisation methods \n",
    "\n",
    "# Define the color options for the boxplot in form of a dictionnary\n",
    "color = {\n",
    "            \"boxes\": \"DarkGreen\",\n",
    "            \"whiskers\": \"DarkOrange\",\n",
    "            \"medians\": \"DarkBlue\",\n",
    "            \"caps\": \"Gray\",\n",
    "        }\n",
    "\n",
    "# Create a subplot grid with 1 row and 2 columns\n",
    "fig, axs = plt.subplots(1,2,figsize=(10, 6))\n",
    "\n",
    "# Boxplot of the precipitation according to the categorical variable weather\n",
    "seattle_weather_sorted.boxplot(ax=axs[0], column='precipitation', by='weather',\n",
    "                                color=color)\n",
    "# Scatter plot of the temperature max with the temperature min\n",
    "seattle_weather.plot.scatter(ax=axs[1], x='temp_max', y='temp_min')\n",
    "\n",
    "plt.show()"
   ]
  },
  {
   "cell_type": "markdown",
   "metadata": {
    "id": "3SQ2wG5Qdbs3"
   },
   "source": [
    "END OF PART 1"
   ]
  }
 ],
 "metadata": {
  "colab": {
   "collapsed_sections": [],
   "name": "dataViz-part1.ipynb",
   "provenance": []
  },
  "kernelspec": {
   "display_name": "Python 3",
   "language": "python",
   "name": "python3"
  },
  "language_info": {
   "codemirror_mode": {
    "name": "ipython",
    "version": 3
   },
   "file_extension": ".py",
   "mimetype": "text/x-python",
   "name": "python",
   "nbconvert_exporter": "python",
   "pygments_lexer": "ipython3",
   "version": "3.8.8"
  }
 },
 "nbformat": 4,
 "nbformat_minor": 1
}
