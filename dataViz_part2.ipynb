{
 "cells": [
  {
   "cell_type": "markdown",
   "metadata": {
    "id": "Z8wBTVG9bQUu"
   },
   "source": [
    "# Data Visualisation with Python\n",
    "\n",
    "The following notebook serves as an introduction to data visualization with Python training course. \n",
    "\n",
    "## Why Data Visualization?\n",
    "Data visualization (DataViz) is an essential tool for exploring and find insight in the data. Before jumping to complex machine learning or multivariate models, one should always take a first look at the data through simple visualization techniques. Indeed, visualization provides a unique perspective on the dataset that might in some cases allow you to detect potential challenge or specifities in your data that should be taken into account for future and in depth analysis.\n",
    "\n",
    "## Objectives of the course\n",
    "The goal of this session is to discover how to make 1D, 2D, 3D and eventually multidimensional data visualization with Python. \n",
    "\n",
    "We will explore four different librairies:\n",
    "\n",
    "* Matplotlib (very similar to Matlab's syntax): classic Python library for data visualization.\n",
    "* Pandas: its main purpose is to handle data frames. It also provides basic visualization modules.\n",
    "* Seaborn: it provides a high-level interface to draw statistical graphics.\n",
    "* Plotly: interactive graphing library\n"
   ]
  },
  {
   "cell_type": "markdown",
   "metadata": {
    "id": "7IizjFVYbS6p"
   },
   "source": [
    "# Part 2 - Introduction to Plotly\n",
    "\n",
    "[Plotly](https://plotly.com/python/) is an open source interactive graphing library written in JavaScript (mainly d3.js) with Python and R implementations.\n",
    "\n",
    "We will explore two parts of the library:\n",
    "* plotly.express, a good starting point\n",
    "* plotly.graph_objects, a more advanced use of plotly\n",
    "\n",
    "The project plotly also offers the possibility to create **interactive dashboards** without knowing frontent languages such as HTTP, CSS or JavaScript. [Dash](https://dash.plotly.com/introduction) is a Python framework for building web applications, like R-Shiny. It is based on the core plotly functionalities and the web-service framework [Flask](https://flask.palletsprojects.com/en/2.0.x/).\n",
    "\n",
    "Resources : \n",
    "- [Official documentation](https://plotly.com/python/plotly-fundamentals/)\n",
    "- [Video tutorial](https://www.youtube.com/watch?v=GGL6U0k8WYA)\n",
    "- [Visualization with Plotly.Express: Comprehensive guide](https://towardsdatascience.com/visualization-with-plotly-express-comprehensive-guide-eb5ee4b50b57)\n",
    "- [Plotly and Dash](https://medium.com/analytics-vidhya/interactive-visualization-with-plotly-and-dash-f3f840b786fa)"
   ]
  },
  {
   "cell_type": "markdown",
   "metadata": {
    "id": "SHlXkGT6befP"
   },
   "source": [
    "## **Plotly express**"
   ]
  },
  {
   "cell_type": "markdown",
   "metadata": {
    "id": "g9qqG2lPbfDb"
   },
   "source": [
    "The [plotly.express](https://plotly.com/python/plotly-express/) module contains functions that can create entire figures **at once**. Plotly Express is the recommended starting point for creating most common figures, for instance:\n",
    "\n",
    "* Basics: scatter, line, area, bar\n",
    "* Part-of-Whole: pie, sunburst, treemap\n",
    "* 1D Distributions: histogram, boxplot, violin\n",
    "* 2D Distributions: density_heatmap, density_contour\n",
    "* Matrix Input: imshow\n",
    "\n",
    "In the following code, we import the `express` module of the `plotly` library under the alias px."
   ]
  },
  {
   "cell_type": "code",
   "execution_count": null,
   "metadata": {
    "id": "GZNXjVOmbhJQ"
   },
   "outputs": [],
   "source": [
    "# Import the necessary package\n",
    "import plotly.express as px\n",
    "from pandas import DatetimeIndex"
   ]
  },
  {
   "cell_type": "code",
   "execution_count": null,
   "metadata": {
    "id": "_XnREhAgqHEY"
   },
   "outputs": [],
   "source": [
    "# Load some useful datasets\n",
    "iris = px.data.iris()\n",
    "\n",
    "from vega_datasets import data\n",
    "seattle_weather = data.seattle_weather()\n",
    "\n",
    "# Extract the month and the year from the date to create a new variable\n",
    "seattle_weather['month'] = DatetimeIndex(seattle_weather['date']).month_name()\n",
    "seattle_weather['year'] = DatetimeIndex(seattle_weather['date']).year"
   ]
  },
  {
   "cell_type": "markdown",
   "metadata": {
    "id": "Tgu3w359sbMY"
   },
   "source": [
    "### **Scatter plot**"
   ]
  },
  {
   "cell_type": "markdown",
   "metadata": {
    "id": "xXXxlUrgbnJ4"
   },
   "source": [
    "The function `scatter()` plots data points. It is equivalent to `scatter()` in `matplotlib` and `plot()` in R."
   ]
  },
  {
   "cell_type": "code",
   "execution_count": null,
   "metadata": {
    "colab": {
     "base_uri": "https://localhost:8080/",
     "height": 542
    },
    "id": "GsFXM8Bubnw3",
    "outputId": "97c9a8ee-4ad5-4457-a36b-6fb7467fda15"
   },
   "outputs": [],
   "source": [
    "# Arguments: a dataset (pandas DataFrame, numpy array or dict) and the labels of the features we want to visualize (x and y)\n",
    "fig = px.scatter(data_frame=iris, x=\"sepal_width\", y=\"sepal_length\")\n",
    "fig.show()"
   ]
  },
  {
   "cell_type": "markdown",
   "metadata": {
    "id": "boOmn9nqpvqS"
   },
   "source": [
    "Set the value of the arguments color, size, hover_data for adding more informations to the figure. The corresponding values correspond to some specific columns in the dataset."
   ]
  },
  {
   "cell_type": "code",
   "execution_count": null,
   "metadata": {
    "colab": {
     "base_uri": "https://localhost:8080/",
     "height": 542
    },
    "id": "pRvYORE0btzI",
    "outputId": "63378c82-9559-46f1-c7f5-7411cc88810c"
   },
   "outputs": [],
   "source": [
    "# Scatter plot with more arguments\n",
    "fig = px.scatter(iris, x=\"sepal_width\", y=\"sepal_length\", color=\"species\",\n",
    "                 size=\"petal_length\", hover_data=[\"petal_width\"])\n",
    "fig.show()"
   ]
  },
  {
   "cell_type": "markdown",
   "metadata": {
    "id": "ZryzFA82shFp"
   },
   "source": [
    "*Exercises: for the two previous figures*\n",
    "1.   *Modify the axis labels and the title*\n",
    "2.   *Move the legend at the top left of the figure*\n",
    "\n",
    "\n"
   ]
  },
  {
   "cell_type": "markdown",
   "metadata": {
    "id": "iJM1Bfco3-is"
   },
   "source": [
    "The function `scatter_matrix` is equivalent to `pairplot` in seaborn and `pairs` in R."
   ]
  },
  {
   "cell_type": "code",
   "execution_count": null,
   "metadata": {
    "colab": {
     "base_uri": "https://localhost:8080/",
     "height": 542
    },
    "id": "NNGahGg03YE_",
    "outputId": "8c0cc043-8ba9-4750-a977-06a96f946769"
   },
   "outputs": [],
   "source": [
    "fig = px.scatter_matrix(iris, dimensions=[\"sepal_width\", \"sepal_length\", \"petal_width\", \"petal_length\"], color=\"species\", symbol=\"species\")\n",
    "fig.update_traces(diagonal_visible=False)\n",
    "fig.show()"
   ]
  },
  {
   "cell_type": "markdown",
   "metadata": {
    "id": "hrd5yUAXxou2"
   },
   "source": [
    "### **Histogram and barplot**"
   ]
  },
  {
   "cell_type": "markdown",
   "metadata": {
    "id": "99cqNIIc93NV"
   },
   "source": [
    "*   The function `histogram` is equivalent to `hist` in mathplotlib and R\n",
    "*   The function `bar` is equivalent to `bar` in matplotlib and `barplot` in R\n",
    "\n"
   ]
  },
  {
   "cell_type": "code",
   "execution_count": null,
   "metadata": {
    "colab": {
     "base_uri": "https://localhost:8080/",
     "height": 542
    },
    "id": "ILWupNwfb6C3",
    "outputId": "1636323e-3628-4001-8fc1-dae593435326"
   },
   "outputs": [],
   "source": [
    "# Arguments: a dataset (pandas DataFrame, numpy array or dict) and the label of the feature we want to visualize (x)\n",
    "fig = px.histogram(data_frame=seattle_weather, x=\"temp_max\")\n",
    "fig.show()"
   ]
  },
  {
   "cell_type": "code",
   "execution_count": null,
   "metadata": {
    "colab": {
     "base_uri": "https://localhost:8080/",
     "height": 542
    },
    "id": "BwIWaB9Dyk_P",
    "outputId": "ad295f00-67fd-4a37-f7d2-7c47d47b904a"
   },
   "outputs": [],
   "source": [
    "# Select the data to be visualized\n",
    "gb = seattle_weather.groupby([\"year\", \"month\"])\n",
    "df = gb.mean().loc[2012].reset_index()\n",
    "\n",
    "# Bar plot\n",
    "# Arguments: a dataset (pandas DataFrame, numpy array or dict) and the labels of the features we want to visualize (x and y)\n",
    "fig = px.bar(data_frame=df, x=\"month\", y=\"temp_max\")\n",
    "fig.show()"
   ]
  },
  {
   "cell_type": "markdown",
   "metadata": {
    "id": "He5ERmIx2ury"
   },
   "source": [
    "*Exercises:*\n",
    "1. *Re-order the categories in the x-axis using the argument `category_orders`*\n",
    "2. *Rotate the x-axis tick labels by 45 degrees*"
   ]
  },
  {
   "cell_type": "markdown",
   "metadata": {
    "id": "oTrPasQV43Q1"
   },
   "source": [
    "### **Heatmaps and images**"
   ]
  },
  {
   "cell_type": "markdown",
   "metadata": {
    "id": "FLMCqf4XCiZh"
   },
   "source": [
    "The function `imshow` is equivalent to the functions `imshow` (in matplotlib), `heatmap` (in seaborn)"
   ]
  },
  {
   "cell_type": "code",
   "execution_count": null,
   "metadata": {
    "colab": {
     "base_uri": "https://localhost:8080/",
     "height": 542
    },
    "id": "oP_FWz34b9kk",
    "outputId": "516080a7-f84a-4a88-8a7b-d8edcbe523b1"
   },
   "outputs": [],
   "source": [
    "# Compute the correlation matrix of the iris dataset\n",
    "correlations = iris.corr()\n",
    "\n",
    "# Plot the corresponding image\n",
    "# Argument: an array-like image\n",
    "fig = px.imshow(img=correlations)\n",
    "fig.show()"
   ]
  },
  {
   "cell_type": "markdown",
   "metadata": {
    "id": "u6lrPMNw6AQn"
   },
   "source": [
    "*Exercises:*\n",
    "\n",
    "1. *Change the color map using the argument `color_continuous_scale`*\n",
    "2. *(Hard) Replace the numerical labels of the axis by the true feature names*"
   ]
  },
  {
   "cell_type": "markdown",
   "metadata": {
    "id": "9qsUTEIr5_kZ"
   },
   "source": [
    "The function `imshow` can be used for plotting photos"
   ]
  },
  {
   "cell_type": "code",
   "execution_count": null,
   "metadata": {
    "colab": {
     "base_uri": "https://localhost:8080/",
     "height": 542
    },
    "id": "Lf2DwY0r56I7",
    "outputId": "02685617-4d52-4c9c-e876-5bebaef2f98c"
   },
   "outputs": [],
   "source": [
    "# Load data\n",
    "from skimage import data\n",
    "img = data.camera()\n",
    "\n",
    "# Plot the image\n",
    "fig = px.imshow(img, color_continuous_scale='gray')\n",
    "fig.update_layout(coloraxis_showscale=False)\n",
    "fig.update_xaxes(showticklabels=False)\n",
    "fig.update_yaxes(showticklabels=False)\n",
    "fig.show()"
   ]
  },
  {
   "cell_type": "markdown",
   "metadata": {
    "id": "P-ZQvrTe9-Pu"
   },
   "source": [
    "### **Lines**"
   ]
  },
  {
   "cell_type": "markdown",
   "metadata": {
    "id": "UfVOSZyLIcOJ"
   },
   "source": [
    "The function `line` plots line charts."
   ]
  },
  {
   "cell_type": "code",
   "execution_count": null,
   "metadata": {
    "colab": {
     "base_uri": "https://localhost:8080/",
     "height": 542
    },
    "id": "fq5O6PqyyEaE",
    "outputId": "7384f12b-8f9e-470e-cd7a-714234db0684"
   },
   "outputs": [],
   "source": [
    "# Arguments: a dataset (pandas DataFrame, numpy array or dict) and the labels of the features we want to visualize (x and y)\n",
    "fig = px.line(data_frame=seattle_weather, x='date', y='temp_max')\n",
    "fig.show()"
   ]
  },
  {
   "cell_type": "code",
   "execution_count": null,
   "metadata": {
    "colab": {
     "base_uri": "https://localhost:8080/",
     "height": 542
    },
    "id": "lBcIbHhKO0_T",
    "outputId": "f0f374f7-53be-404e-d5da-9e193ba9100f"
   },
   "outputs": [],
   "source": [
    "# Using add_scatter function to add more lines\n",
    "fig = px.line(data_frame=seattle_weather, x=\"date\", y=\"temp_max\")\n",
    "fig.add_scatter(x=seattle_weather[\"date\"], y=seattle_weather[\"temp_min\"], mode=\"lines\")\n",
    "fig.show()"
   ]
  },
  {
   "cell_type": "markdown",
   "metadata": {
    "id": "6OSMI61V2oii"
   },
   "source": [
    "*Exercises: Change the style of the previous chart*\n",
    "  * *use dash line and or dots*\n",
    "  * *modify the size of the line*\n",
    "  * *(modify the opacity of the lines)*\n",
    "\n"
   ]
  },
  {
   "cell_type": "markdown",
   "metadata": {
    "id": "Ad1OUD6A9SHa"
   },
   "source": [
    "### **Boxplot**\n",
    "\n",
    "The function `box` is equivalent to the function boxplot in R"
   ]
  },
  {
   "cell_type": "code",
   "execution_count": null,
   "metadata": {
    "colab": {
     "base_uri": "https://localhost:8080/",
     "height": 542
    },
    "id": "ioPh1V_p9eHt",
    "outputId": "28b71b55-0f08-4362-c529-9e15b3f930e6"
   },
   "outputs": [],
   "source": [
    "fig = px.box(seattle_weather, x=\"month\", y=\"temp_max\")\n",
    "fig.show()"
   ]
  },
  {
   "cell_type": "code",
   "execution_count": null,
   "metadata": {
    "colab": {
     "base_uri": "https://localhost:8080/",
     "height": 542
    },
    "id": "UUmg5-uf4OZe",
    "outputId": "d1b845d2-c7e5-42d7-ed42-aee007bf4ecc"
   },
   "outputs": [],
   "source": [
    "fig = px.box(seattle_weather, x=\"month\", y=\"temp_max\", color=\"year\")\n",
    "fig.show()"
   ]
  },
  {
   "cell_type": "markdown",
   "metadata": {
    "id": "xVWztx1_cHWA"
   },
   "source": [
    "## **Graph objects**"
   ]
  },
  {
   "cell_type": "markdown",
   "metadata": {
    "id": "VKXqXj0jcMXz"
   },
   "source": [
    "### What are Graph objects\n",
    "\n",
    "The module `plotly.graph_objects` contains Python classes that represent parts of a figure. As for `matplotlib`, figures are central in plotly.\n",
    "\n",
    "Broadly speaking, a figure is created by instanciating the class `plotly.graph_objects.Figure`. Instances of this class has many convenience methods for manipulating their attributes (e.g. `.update_layout()` or `.add_trace()`) as well as rendering them (e.g. `.show()`) and exporting them to various formats (e.g. `.to_json()` or `.write_image()` or `.write_html()`). For instance:\n",
    "\n",
    "```\n",
    "# Create a fig object\n",
    "fig = graph_objects.Figure()\n",
    "\n",
    "# Add a go.Bar object using add_trace method\n",
    "fig.add_trace(go.Bar(x, y))\n",
    "\n",
    "# Write to HTML\n",
    "fig.write_html()\n",
    "```\n",
    "\n",
    "Another way to use the module graph objects is to define the elements separately and then to add the object in the figure container:\n",
    "\n",
    "```\n",
    "# Create a go.Bar object\n",
    "bar = go.Bar(x, y)\n",
    "\n",
    "# Create a layout object, changing the size or anything else\n",
    "layout = go.Layout(height=600, width=800)\n",
    "\n",
    "# Add the two objects in the final figure\n",
    "fig = go.Figure(data=[bar], layout=layout)\n",
    "\n",
    "# Write to HTML\n",
    "fig.write_html()\n",
    "```\n",
    "\n",
    "The **two main points** when using Graph objects are \n",
    "* Certain kinds of figures are not yet possible to create with Plotly Express\n",
    "* It can be easier to start from an empty `plotly.graph_objects.Figure` object and progressively **add traces** and **update attributes**.\n",
    "\n",
    "\n",
    "**Official documentation:** [Graph objects in Python](https://plotly.com/python/graph-objects/)\n",
    "\n",
    "\n",
    "\n"
   ]
  },
  {
   "cell_type": "code",
   "execution_count": null,
   "metadata": {
    "id": "yWLXBzqQcH6b"
   },
   "outputs": [],
   "source": [
    "# Import graph_object under the alias go\n",
    "import plotly.graph_objects as go"
   ]
  },
  {
   "cell_type": "markdown",
   "metadata": {
    "id": "J3D58JzLiYOU"
   },
   "source": [
    "### **Comparison with Plotly Express**\n",
    "\n",
    "The functions in Plotly Express are all built on top of graph objects, and all return instances of `plotly.graph_objects.Figure`.\n",
    "\n",
    "The official documentation recommends the use of `plotly.express` for the sake of simplicity but it is possible to have the same plots with `plotly.graph_objects` with more lines of code (see a comparison below).\n",
    "\n",
    "Note that every plotly documentation page lists the Plotly Express option at the top if a Plotly Express function exists to make the kind of chart in question, and then the graph objects version below."
   ]
  },
  {
   "cell_type": "code",
   "execution_count": null,
   "metadata": {
    "colab": {
     "base_uri": "https://localhost:8080/",
     "height": 1000
    },
    "id": "93yOlXZucL3k",
    "outputId": "1b7e8a07-ab83-4ad0-85a8-996f88815e1e"
   },
   "outputs": [],
   "source": [
    "# First generate data\n",
    "import pandas as pd\n",
    "df = pd.DataFrame({\n",
    "  \"Fruit\": [\"Apples\", \"Oranges\", \"Bananas\", \"Apples\", \"Oranges\", \"Bananas\"],\n",
    "  \"Contestant\": [\"Alex\", \"Alex\", \"Alex\", \"Jordan\", \"Jordan\", \"Jordan\"],\n",
    "  \"Number Eaten\": [2, 1, 3, 1, 3, 2],\n",
    "})\n",
    "\n",
    "# With plotly.express\n",
    "import plotly.express as px\n",
    "fig = px.bar(df, x=\"Fruit\", y=\"Number Eaten\", color=\"Contestant\", barmode=\"group\")\n",
    "fig.show()\n",
    "\n",
    "# With graph_object\n",
    "fig = go.Figure()\n",
    "for contestant, group in df.groupby(\"Contestant\"):\n",
    "    fig.add_trace(go.Bar(x=group[\"Fruit\"], \n",
    "                         y=group[\"Number Eaten\"],\n",
    "                         name=contestant,\n",
    "                         hovertemplate=\"Contestant=%s<br>Fruit=%%{x}<br>Number Eaten=%%{y}<extra></extra>\"% contestant))\n",
    "fig.show()"
   ]
  },
  {
   "cell_type": "markdown",
   "metadata": {
    "id": "nejkddBEksvw"
   },
   "source": [
    "Mixing a bar chart and a scatter plot"
   ]
  },
  {
   "cell_type": "code",
   "execution_count": null,
   "metadata": {
    "colab": {
     "base_uri": "https://localhost:8080/",
     "height": 617
    },
    "id": "7N02s_yJkakl",
    "outputId": "cffe6719-bf6f-4fb5-8080-aff80a04feaa"
   },
   "outputs": [],
   "source": [
    "bar = go.Bar(x=[\"a\", \"b\", \"c\"], y=[1, 3, 2])\n",
    "scatter = go.Scatter(x=[\"a\", \"b\", \"c\"], y=[1, 3, 2])\n",
    "layout = go.Layout(height=600, width=800)\n",
    "fig = go.Figure(data=[bar, scatter], layout=layout)\n",
    "fig.show()"
   ]
  },
  {
   "cell_type": "markdown",
   "metadata": {
    "id": "WMlcs1GZstVj"
   },
   "source": [
    "*Exercise: add axis labels and modify the legend labels using the methods `update_xaxes` ans `update_yaxis`*"
   ]
  },
  {
   "cell_type": "markdown",
   "metadata": {
    "id": "5vMGWT0mtPzA"
   },
   "source": [
    "### **Histogram and bar chart**"
   ]
  },
  {
   "cell_type": "code",
   "execution_count": null,
   "metadata": {
    "colab": {
     "base_uri": "https://localhost:8080/",
     "height": 542
    },
    "id": "T6gPArnpcT4i",
    "outputId": "2fbee733-9ad6-4a15-c678-907199f29459"
   },
   "outputs": [],
   "source": [
    "# Generate Gaussian data\n",
    "import numpy as np\n",
    "x0 = np.random.randn(500)\n",
    "x1 = np.random.randn(500) + 1\n",
    "\n",
    "# Create a figure\n",
    "fig = go.Figure()\n",
    "\n",
    "# Add the first histogram to the figure\n",
    "fig.add_trace(go.Histogram(\n",
    "    x=x0,\n",
    "    histnorm='percent',\n",
    "    name='control', # name used in legend and hover labels\n",
    "    xbins=dict( # bins used for histogram\n",
    "        start=-4.0,\n",
    "        end=3.0,\n",
    "        size=0.5\n",
    "    ),\n",
    "    marker_color='#EB89B5',\n",
    "    opacity=0.75\n",
    "))\n",
    "\n",
    "# Add the second histogram to the figure\n",
    "fig.add_trace(go.Histogram(\n",
    "    x=x1,\n",
    "    histnorm='percent',\n",
    "    name='experimental',\n",
    "    xbins=dict(\n",
    "        start=-3.0,\n",
    "        end=4,\n",
    "        size=0.5\n",
    "    ),\n",
    "    marker_color='#330C73',\n",
    "    opacity=0.75\n",
    "))\n",
    "\n",
    "# Update the layout\n",
    "fig.update_layout(\n",
    "    title_text='Sampled Results', # title of plot\n",
    "    xaxis_title_text='Value', # xaxis label\n",
    "    yaxis_title_text='Count', # yaxis label\n",
    "    bargap=0.2, # gap between bars of adjacent location coordinates\n",
    "    bargroupgap=0.1 # gap between bars of the same location coordinates\n",
    ")\n",
    "\n",
    "fig.show()"
   ]
  },
  {
   "cell_type": "code",
   "execution_count": null,
   "metadata": {
    "colab": {
     "base_uri": "https://localhost:8080/",
     "height": 542
    },
    "id": "7b7KES4VcVo-",
    "outputId": "c3e29667-7497-49fb-e50c-372e4f0f096c"
   },
   "outputs": [],
   "source": [
    "# Generate data\n",
    "months = ['Jan', 'Feb', 'Mar', 'Apr', 'May', 'Jun',\n",
    "          'Jul', 'Aug', 'Sep', 'Oct', 'Nov', 'Dec']\n",
    "values1 = [20, 14, 25, 16, 18, 22, 19, 15, 12, 16, 14, 17]\n",
    "values2 = [19, 14, 22, 14, 16, 19, 15, 14, 10, 12, 12, 16]\n",
    "\n",
    "fig = go.Figure()\n",
    "\n",
    "fig.add_trace(go.Bar(\n",
    "    x=months,\n",
    "    y=values1,\n",
    "    name='Primary Product',\n",
    "    marker_color='indianred'\n",
    "))\n",
    "\n",
    "fig.add_trace(go.Bar(\n",
    "    x=months,\n",
    "    y=values2,\n",
    "    name='Secondary Product',\n",
    "    marker_color='lightsalmon'\n",
    "))\n",
    "\n",
    "# Here we modify the tickangle of the xaxis, resulting in rotated labels.\n",
    "fig.update_layout(barmode='group', xaxis_tickangle=-45)\n",
    "fig.show()"
   ]
  },
  {
   "cell_type": "markdown",
   "metadata": {
    "id": "IpbfBVyHuQst"
   },
   "source": [
    "*Exercise: generate the two previous figures with the following pattern*\n",
    "\n",
    "```\n",
    "chart1 = ...\n",
    "chart2 = ...\n",
    "layout = ...\n",
    "fig = go.Figure(data=[chart1, chart2], layout=layout)\n",
    "```"
   ]
  },
  {
   "cell_type": "markdown",
   "metadata": {
    "id": "VDQNhRbV90x8"
   },
   "source": [
    "### **Line**"
   ]
  },
  {
   "cell_type": "code",
   "execution_count": null,
   "metadata": {
    "colab": {
     "base_uri": "https://localhost:8080/",
     "height": 542
    },
    "id": "p7TTFW3K90Uj",
    "outputId": "52970990-fdba-4b23-df79-7a6158f25452"
   },
   "outputs": [],
   "source": [
    "# Create data\n",
    "month = ['January', 'February', 'March', 'April', 'May', 'June', 'July',\n",
    "         'August', 'September', 'October', 'November', 'December']\n",
    "high_2000 = [32.5, 37.6, 49.9, 53.0, 69.1, 75.4, 76.5, 76.6, 70.7, 60.6, 45.1, 29.3]\n",
    "low_2000 = [13.8, 22.3, 32.5, 37.2, 49.9, 56.1, 57.7, 58.3, 51.2, 42.8, 31.6, 15.9]\n",
    "high_2007 = [36.5, 26.6, 43.6, 52.3, 71.5, 81.4, 80.5, 82.2, 76.0, 67.3, 46.1, 35.0]\n",
    "low_2007 = [23.6, 14.0, 27.0, 36.8, 47.6, 57.7, 58.9, 61.2, 53.3, 48.5, 31.0, 23.6]\n",
    "high_2014 = [28.8, 28.5, 37.0, 56.8, 69.7, 79.7, 78.5, 77.8, 74.1, 62.6, 45.3, 39.9]\n",
    "low_2014 = [12.7, 14.3, 18.6, 35.5, 49.9, 58.0, 60.0, 58.6, 51.7, 45.2, 32.2, 29.1]\n",
    "\n",
    "# Create the figure object\n",
    "fig = go.Figure()\n",
    "\n",
    "# Create and style traces\n",
    "fig.add_trace(go.Scatter(x=month, y=high_2014, name='High 2014',\n",
    "                         line=dict(color='firebrick', width=4)))\n",
    "fig.add_trace(go.Scatter(x=month, y=low_2014, name = 'Low 2014',\n",
    "                         line=dict(color='royalblue', width=4)))\n",
    "fig.add_trace(go.Scatter(x=month, y=high_2007, name='High 2007',\n",
    "                         line=dict(color='firebrick', width=4, dash='dash') # dash options include 'dash', 'dot', and 'dashdot'\n",
    "))\n",
    "fig.add_trace(go.Scatter(x=month, y=low_2007, name='Low 2007',\n",
    "                         line = dict(color='royalblue', width=4, dash='dash')))\n",
    "fig.add_trace(go.Scatter(x=month, y=high_2000, name='High 2000',\n",
    "                         line = dict(color='firebrick', width=4, dash='dot')))\n",
    "fig.add_trace(go.Scatter(x=month, y=low_2000, name='Low 2000',\n",
    "                         line=dict(color='royalblue', width=4, dash='dot')))\n",
    "\n",
    "# Edit the layout\n",
    "fig.update_layout(title='Average High and Low Temperatures in New York',\n",
    "                  xaxis_title='Month',\n",
    "                  yaxis_title='Temperature (degrees F)')\n",
    "\n",
    "\n",
    "fig.show()"
   ]
  },
  {
   "cell_type": "markdown",
   "metadata": {
    "id": "3VwEOgSFwfH7"
   },
   "source": [
    "### **Heatmap**"
   ]
  },
  {
   "cell_type": "code",
   "execution_count": null,
   "metadata": {
    "colab": {
     "base_uri": "https://localhost:8080/",
     "height": 542
    },
    "id": "FhTk0Q1KwfqA",
    "outputId": "4309ae15-96aa-4363-9450-695b407eea58"
   },
   "outputs": [],
   "source": [
    "# Correlation matrix\n",
    "correlations = iris.corr()\n",
    "\n",
    "# Heatmap\n",
    "heatmap = go.Heatmap(z=correlations, x=correlations.index, y=correlations.index)\n",
    "fig = go.Figure(data=heatmap)\n",
    "fig.show()"
   ]
  },
  {
   "cell_type": "markdown",
   "metadata": {
    "id": "hyy0tiSDcZOU"
   },
   "source": [
    "## **Going further with dash library**\n",
    "\n",
    "Dash is a Python framework for interactive dashboards. It creates a web application in which figures will be uploaded (see [here](https://dash.plotly.com/layout)).\n",
    "\n",
    "There are two ways to run such an application:\n",
    "1. Implement the features in a program called `app.py` and run it using `python3 app.py` in a terminal\n",
    "2. Use Jupyter Notebook\n",
    "\n",
    "Note: the dashboard has to be run locally since it is accessed with a web navigator. It is possible to use Google Colab but not easy and we recommend using one of the ways above.\n",
    "\n",
    "\n",
    "\n",
    "\n",
    "\n",
    "**Example of a very simple dashboard:**\n",
    "\n",
    "```\n",
    "import dash\n",
    "import dash_core_components as dcc\n",
    "import dash_html_components as html\n",
    "\n",
    "fig = go.Figure() # or any Plotly Express function e.g. px.bar(...)\n",
    "# fig.add_trace( ... )\n",
    "# fig.update_layout( ... )\n",
    "\n",
    "# Instanciate the class dash.Dash\n",
    "app = dash.Dash()\n",
    "\n",
    "# Add a layout\n",
    "app.layout = html.Div([\n",
    "    dcc.Graph(figure=fig)\n",
    "])\n",
    "\n",
    "# Run the server\n",
    "app.run_server(debug=True, use_reloader=False)  # Turn off reloader if inside Jupyter\n",
    "```\n",
    "\n",
    "Running the code above will outputs:\n",
    "\n",
    "```\n",
    "Dash is running on http://127.0.0.1:8050/\n",
    "\n",
    " * Serving Flask app \"test_dash\" (lazy loading)\n",
    " * Environment: production\n",
    "   WARNING: This is a development server. Do not use it in a production deployment.\n",
    "   Use a production WSGI server instead.\n",
    " * Debug mode: on\n",
    "```\n",
    "\n",
    "Then go to `http://127.0.0.1:8050/`.\n",
    "\n",
    "\n",
    "\n",
    "**Documentations:**\n",
    "* Tutorial: [https://dash.plotly.com/](https://dash.plotly.com/)\n",
    "* Examples of dashboards: [Dash app gallery](https://dash-gallery.plotly.host/Portal/)\n",
    "* Github repository: [dash-sample-apps](https://github.com/plotly/dash-sample-apps)"
   ]
  },
  {
   "cell_type": "markdown",
   "metadata": {
    "id": "CqQGJMje16g5"
   },
   "source": [
    "*Exercises:*\n",
    "* *Read the official tutorial*\n",
    "* *Create a simple dashboard with two or three figures one below the other*"
   ]
  },
  {
   "cell_type": "code",
   "execution_count": null,
   "metadata": {
    "id": "GyOo2yOB7C-k"
   },
   "outputs": [],
   "source": []
  }
 ],
 "metadata": {
  "colab": {
   "collapsed_sections": [
    "Z8wBTVG9bQUu",
    "hrd5yUAXxou2",
    "oTrPasQV43Q1",
    "P-ZQvrTe9-Pu",
    "Ad1OUD6A9SHa"
   ],
   "name": "dataViz-part2.ipynb",
   "provenance": []
  },
  "kernelspec": {
   "display_name": "Python 3",
   "language": "python",
   "name": "python3"
  },
  "language_info": {
   "codemirror_mode": {
    "name": "ipython",
    "version": 3
   },
   "file_extension": ".py",
   "mimetype": "text/x-python",
   "name": "python",
   "nbconvert_exporter": "python",
   "pygments_lexer": "ipython3",
   "version": "3.8.5"
  }
 },
 "nbformat": 4,
 "nbformat_minor": 4
}
